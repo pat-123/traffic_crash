{
 "cells": [
  {
   "cell_type": "code",
   "execution_count": 1,
   "metadata": {},
   "outputs": [],
   "source": [
    "#Need this location for rest of the project to be located from\n",
    "import sys\n",
    "sys.path.append('C:\\\\Users\\\\PAT\\\\Documents\\\\edwisor\\\\projects\\\\traffic_crash')"
   ]
  },
  {
   "cell_type": "code",
   "execution_count": 2,
   "metadata": {},
   "outputs": [],
   "source": [
    "#Load the libraries from package 'traffic_crash/__init__.py file under the location mentioned above'\n",
    "from traffic_crash import * \n",
    "from traffic_crash.config import *\n",
    "from utils import *\n",
    "from utils.utils_ import *\n",
    "from utils.utils_local import *"
   ]
  },
  {
   "cell_type": "markdown",
   "metadata": {},
   "source": [
    "### open the geojson file in to tmp and then create a pandas dataframe"
   ]
  },
  {
   "cell_type": "code",
   "execution_count": 3,
   "metadata": {},
   "outputs": [],
   "source": [
    "f = open(json_data_path)\n",
    "tmp = geojson.load(f)"
   ]
  },
  {
   "cell_type": "markdown",
   "metadata": {},
   "source": [
    "#### pandas dataframe"
   ]
  },
  {
   "cell_type": "code",
   "execution_count": 4,
   "metadata": {},
   "outputs": [],
   "source": [
    "data = pd.DataFrame()\n",
    "crash = {}\n",
    "sp = []\n",
    "count = 0\n",
    "for record in tmp:\n",
    "    for key in record.keys():\n",
    "        #if key == 'geo_shape':\n",
    "        #    print(type(record[key])) \n",
    "        if type(record[key]) in [dict,geojson.feature.Feature]:\n",
    "            if key == 'geo_shape':\n",
    "                pass#Ignoring\n",
    "            elif key == 'geo_point_2d':\n",
    "                crash['geo_coord_lat'] = record[key]['lat']\n",
    "                crash['geo_coord_lon'] = record[key]['lon']\n",
    "            if key not in sp:\n",
    "                sp.append(key)\n",
    "                \n",
    "        else:\n",
    "            crash[key] = record[key]\n",
    "    #print(crash)       \n",
    "    each_crash = pd.DataFrame(data = crash,index=[count])\n",
    "    count+=1\n",
    "    data = pd.concat([each_crash,data],axis=0)        \n",
    "data = data.reset_index()\n",
    "data = data.drop('index',axis=1)"
   ]
  },
  {
   "cell_type": "markdown",
   "metadata": {},
   "source": [
    "### check the data type of the dataframe columns"
   ]
  },
  {
   "cell_type": "code",
   "execution_count": 5,
   "metadata": {},
   "outputs": [
    {
     "name": "stdout",
     "output_type": "stream",
     "text": [
      "$$ adding ambulancer(object) as categorical\n",
      "$$ adding rd_defects(object) as categorical\n",
      "$$ adding crsh_sevri(object) as categorical\n",
      "$$ adding objectid(object) as categorical\n",
      "$$ adding crash_ty_1(object) as categorical\n",
      "$$ adding crash_time(object) as categorical\n",
      "$$ adding crash_year(object) as categorical\n",
      "$$ adding county(object) as categorical\n",
      "$$ adding speed_limi(object) as categorical\n",
      "$$ adding rural_urba(object) as categorical\n",
      "************************you may need to define this col - longitude in categ variable\n",
      "******* adding longitude(float64) as continous as per the data type\n",
      "$$ adding crash_mont(object) as categorical\n",
      "$$ adding drvr_vehty(object) as categorical\n",
      "$$ adding crash_type(object) as categorical\n",
      "$$ adding city(object) as categorical\n",
      "$$ adding workzone_i(object) as categorical\n",
      "$$ adding objectid_1(float64) as continous\n",
      "$$ adding severity(object) as categorical\n",
      "$$ adding locality(object) as categorical\n",
      "$$ adding crash_grp0(object) as categorical\n",
      "$$ adding crashalcoh(object) as categorical\n",
      "$$ adding excsspdind(object) as categorical\n",
      "$$ adding rd_feature(object) as categorical\n",
      "$$ adding on_rd(object) as categorical\n",
      "$$ adding drvr_unitn(object) as categorical\n",
      "$$ adding ped_pos(object) as categorical\n",
      "************************you may need to define this col - latitude in categ variable\n",
      "******* adding latitude(float64) as continous as per the data type\n",
      "$$ adding drvr_injur(object) as categorical\n",
      "$$ adding crash_loc(object) as categorical\n",
      "$$ adding rd_charact(object) as categorical\n",
      "$$ adding drvr_alc_d(object) as categorical\n",
      "$$ adding drvr_sex(object) as categorical\n",
      "$$ adding ped_race(object) as categorical\n",
      "$$ adding light_cond(object) as categorical\n",
      "$$ adding drvrage_gr(object) as categorical\n",
      "$$ adding ped_unitno(object) as categorical\n",
      "$$ adding crashday(object) as categorical\n",
      "$$ adding pedage_grp(object) as categorical\n",
      "$$ adding ped_alc_dr(object) as categorical\n",
      "$$ adding ped_age(object) as categorical\n",
      "$$ adding rd_surface(object) as categorical\n",
      "************************you may need to define this col - crash_hour in categ variable\n",
      "******* adding crash_hour(float64) as continous as per the data type\n",
      "$$ adding drvr_race(object) as categorical\n",
      "$$ adding crash_sevr(object) as categorical\n",
      "$$ adding crash_date(object) as categorical\n",
      "$$ adding crash_id(object) as categorical\n",
      "$$ adding ped_injury(object) as categorical\n",
      "$$ adding developmen(object) as categorical\n",
      "$$ adding traff_cntr(object) as categorical\n",
      "$$ adding rd_conditi(object) as categorical\n",
      "$$ adding region(object) as categorical\n",
      "$$ adding rd_class(object) as categorical\n",
      "$$ adding geo_coord_lat(float64) as continous\n",
      "$$ adding geo_coord_lon(float64) as continous\n",
      "$$ adding drvr_age(object) as categorical\n",
      "$$ adding crsh_typex(object) as categorical\n",
      "$$ adding weather(object) as categorical\n",
      "************************you may need to define this col - num_units in categ variable\n",
      "******* adding num_units(float64) as continous as per the data type\n",
      "$$ adding crash_grp(object) as categorical\n",
      "$$ adding num_lanes(object) as categorical\n",
      "$$ adding hit_run(object) as categorical\n",
      "$$ adding drvr_estsp(object) as categorical\n",
      "$$ adding rd_config(object) as categorical\n",
      "$$ adding ped_sex(object) as categorical\n",
      "continous : ['longitude', 'objectid_1', 'latitude', 'crash_hour', 'geo_coord_lat', 'geo_coord_lon', 'num_units'] \n",
      "categorical : ['ambulancer', 'rd_defects', 'crsh_sevri', 'objectid', 'crash_ty_1', 'crash_time', 'crash_year', 'county', 'speed_limi', 'rural_urba', 'crash_mont', 'drvr_vehty', 'crash_type', 'city', 'workzone_i', 'severity', 'locality', 'crash_grp0', 'crashalcoh', 'excsspdind', 'rd_feature', 'on_rd', 'drvr_unitn', 'ped_pos', 'drvr_injur', 'crash_loc', 'rd_charact', 'drvr_alc_d', 'drvr_sex', 'ped_race', 'light_cond', 'drvrage_gr', 'ped_unitno', 'crashday', 'pedage_grp', 'ped_alc_dr', 'ped_age', 'rd_surface', 'drvr_race', 'crash_sevr', 'crash_date', 'crash_id', 'ped_injury', 'developmen', 'traff_cntr', 'rd_conditi', 'region', 'rd_class', 'drvr_age', 'crsh_typex', 'weather', 'crash_grp', 'num_lanes', 'hit_run', 'drvr_estsp', 'rd_config', 'ped_sex']\n"
     ]
    }
   ],
   "source": [
    "continous_names, cat_names, iv,dv,testparams = iv_dv_get_col_names(data,'ped_sex')\n",
    "print('continous :',continous_names, '\\ncategorical :',cat_names)"
   ]
  },
  {
   "cell_type": "code",
   "execution_count": 6,
   "metadata": {},
   "outputs": [
    {
     "data": {
      "text/plain": [
       "(36.0, -79.0, 35.90427709037941, -79.0879027517705)"
      ]
     },
     "execution_count": 6,
     "metadata": {},
     "output_type": "execute_result"
    }
   ],
   "source": [
    "data.loc[0,'latitude'],data.loc[0,'longitude'],data.loc[0,'geo_coord_lat'],data.loc[0,'geo_coord_lon']"
   ]
  },
  {
   "cell_type": "markdown",
   "metadata": {},
   "source": [
    "### Bird's eye view: Observations about data:\n",
    "- Looks like longitude and latitude values are round off from geo_point_2d and geo_shape, So we can actually remove the redundant ones\n",
    "- A lot of categorical data needs cleaning\n",
    "    - crash_date (along with crash_time) needs to be converted to timestamp object and then stored\n",
    "        - crash month, crash time are redundant, once we have all the data consolidated in timestamp object\n",
    "- Longitude and latitude can be stored as float data type, as we need to calculate distance using those\n",
    "- drv_age can be stored as int (for easier mathematical calculations) and later we can make it categorical if needed to analyze something\n",
    "- Store longitude and latitude in geography data type(postgis) in psql database(for calculation ease)"
   ]
  },
  {
   "cell_type": "markdown",
   "metadata": {},
   "source": [
    "### converting crash time,year,month,hour to a timestamp object"
   ]
  },
  {
   "cell_type": "code",
   "execution_count": 7,
   "metadata": {},
   "outputs": [],
   "source": [
    "bk = data.copy()"
   ]
  },
  {
   "cell_type": "code",
   "execution_count": 8,
   "metadata": {},
   "outputs": [],
   "source": [
    "#data = bk.copy()"
   ]
  },
  {
   "cell_type": "code",
   "execution_count": 9,
   "metadata": {},
   "outputs": [],
   "source": [
    "month = {'JAN':1,'FEB':2,'MAR':3,'APR':4,'MAY':5,'JUN':6,'JUL':7,'AUG':8,'SEP':9,'OCT':10,'NOV':11,'DEC':12}\n",
    "data['crash_timestamp'] = ''#pd.Timestamp(1, 1, 1, 1)\n",
    "for index,row in enumerate(data):\n",
    "    #print(data.loc[index,'crash_time'],data.loc[index,'crash_hour'])\n",
    "    year_ = int(data.loc[index,'crash_year'])\n",
    "    day_ = int(data.loc[index,'crash_date'][:2])\n",
    "    month_ = month[(data.loc[index,'crash_date'][2:5])]\n",
    "    hour_ = int(data.loc[index,'crash_time'].split(\":\")[0])\n",
    "    min_ = int(data.loc[index,'crash_time'].split(\":\")[1])\n",
    "    #print(hour_,min_)\n",
    "    data.loc[index,'crash_timestamp'] = pd.Timestamp(year=year_,month=month_,day = day_,hour=hour_,minute=min_)\n",
    "data = data.drop(['crash_year','crash_date','crash_date','crash_hour','crash_time'],axis=1)    "
   ]
  },
  {
   "cell_type": "code",
   "execution_count": 10,
   "metadata": {},
   "outputs": [
    {
     "data": {
      "text/html": [
       "<div>\n",
       "<style scoped>\n",
       "    .dataframe tbody tr th:only-of-type {\n",
       "        vertical-align: middle;\n",
       "    }\n",
       "\n",
       "    .dataframe tbody tr th {\n",
       "        vertical-align: top;\n",
       "    }\n",
       "\n",
       "    .dataframe thead th {\n",
       "        text-align: right;\n",
       "    }\n",
       "</style>\n",
       "<table border=\"1\" class=\"dataframe\">\n",
       "  <thead>\n",
       "    <tr style=\"text-align: right;\">\n",
       "      <th></th>\n",
       "      <th>ambulancer</th>\n",
       "      <th>rd_defects</th>\n",
       "      <th>crsh_sevri</th>\n",
       "      <th>objectid</th>\n",
       "      <th>crash_ty_1</th>\n",
       "      <th>county</th>\n",
       "      <th>speed_limi</th>\n",
       "      <th>rural_urba</th>\n",
       "      <th>longitude</th>\n",
       "      <th>crash_mont</th>\n",
       "      <th>...</th>\n",
       "      <th>crsh_typex</th>\n",
       "      <th>weather</th>\n",
       "      <th>num_units</th>\n",
       "      <th>crash_grp</th>\n",
       "      <th>num_lanes</th>\n",
       "      <th>hit_run</th>\n",
       "      <th>drvr_estsp</th>\n",
       "      <th>rd_config</th>\n",
       "      <th>ped_sex</th>\n",
       "      <th>crash_timestamp</th>\n",
       "    </tr>\n",
       "  </thead>\n",
       "  <tbody>\n",
       "    <tr>\n",
       "      <th>0</th>\n",
       "      <td>No</td>\n",
       "      <td>None</td>\n",
       "      <td>None</td>\n",
       "      <td>1254</td>\n",
       "      <td>None</td>\n",
       "      <td>Orange</td>\n",
       "      <td>30 - 35  MPH</td>\n",
       "      <td>Urban</td>\n",
       "      <td>-79.0</td>\n",
       "      <td>June</td>\n",
       "      <td>...</td>\n",
       "      <td>38830</td>\n",
       "      <td>Clear</td>\n",
       "      <td>2.0</td>\n",
       "      <td>Off Roadway</td>\n",
       "      <td>Unknown</td>\n",
       "      <td>Yes</td>\n",
       "      <td>16-20 mph</td>\n",
       "      <td>Two-Way, Not Divided</td>\n",
       "      <td>Female</td>\n",
       "      <td>2012-06-09 20:37:00</td>\n",
       "    </tr>\n",
       "    <tr>\n",
       "      <th>1</th>\n",
       "      <td>Yes</td>\n",
       "      <td>None</td>\n",
       "      <td>None</td>\n",
       "      <td>734</td>\n",
       "      <td>None</td>\n",
       "      <td>Orange</td>\n",
       "      <td>20 - 25  MPH</td>\n",
       "      <td>Urban</td>\n",
       "      <td>-79.0</td>\n",
       "      <td>March</td>\n",
       "      <td>...</td>\n",
       "      <td>22770</td>\n",
       "      <td>Clear</td>\n",
       "      <td>2.0</td>\n",
       "      <td>Crossing Roadway - Vehicle Not Turning</td>\n",
       "      <td>Unknown</td>\n",
       "      <td>No</td>\n",
       "      <td>31-35 mph</td>\n",
       "      <td>Two-Way, Not Divided</td>\n",
       "      <td>Female</td>\n",
       "      <td>2012-03-26 15:11:00</td>\n",
       "    </tr>\n",
       "    <tr>\n",
       "      <th>2</th>\n",
       "      <td>No</td>\n",
       "      <td>None</td>\n",
       "      <td>C: Possible Injury</td>\n",
       "      <td>1908</td>\n",
       "      <td>23680</td>\n",
       "      <td>Durham</td>\n",
       "      <td>5 - 15 MPH</td>\n",
       "      <td>Urban</td>\n",
       "      <td>-79.0</td>\n",
       "      <td>October</td>\n",
       "      <td>...</td>\n",
       "      <td>None</td>\n",
       "      <td>Clear</td>\n",
       "      <td>2.0</td>\n",
       "      <td>Other / Unknown - Insufficient Details</td>\n",
       "      <td>4 lanes</td>\n",
       "      <td>No</td>\n",
       "      <td>0-5 mph</td>\n",
       "      <td>Two-Way, Not Divided</td>\n",
       "      <td>Female</td>\n",
       "      <td>2010-10-11 13:28:00</td>\n",
       "    </tr>\n",
       "  </tbody>\n",
       "</table>\n",
       "<p>3 rows × 61 columns</p>\n",
       "</div>"
      ],
      "text/plain": [
       "  ambulancer rd_defects          crsh_sevri objectid crash_ty_1  county  \\\n",
       "0         No       None                None     1254       None  Orange   \n",
       "1        Yes       None                None      734       None  Orange   \n",
       "2         No       None  C: Possible Injury     1908      23680  Durham   \n",
       "\n",
       "     speed_limi rural_urba  longitude crash_mont  ... crsh_typex weather  \\\n",
       "0  30 - 35  MPH      Urban      -79.0       June  ...      38830   Clear   \n",
       "1  20 - 25  MPH      Urban      -79.0      March  ...      22770   Clear   \n",
       "2    5 - 15 MPH      Urban      -79.0    October  ...       None   Clear   \n",
       "\n",
       "  num_units                               crash_grp  num_lanes hit_run  \\\n",
       "0       2.0                             Off Roadway    Unknown     Yes   \n",
       "1       2.0  Crossing Roadway - Vehicle Not Turning    Unknown      No   \n",
       "2       2.0  Other / Unknown - Insufficient Details    4 lanes      No   \n",
       "\n",
       "  drvr_estsp             rd_config ped_sex      crash_timestamp  \n",
       "0  16-20 mph  Two-Way, Not Divided  Female  2012-06-09 20:37:00  \n",
       "1  31-35 mph  Two-Way, Not Divided  Female  2012-03-26 15:11:00  \n",
       "2    0-5 mph  Two-Way, Not Divided  Female  2010-10-11 13:28:00  \n",
       "\n",
       "[3 rows x 61 columns]"
      ]
     },
     "execution_count": 10,
     "metadata": {},
     "output_type": "execute_result"
    }
   ],
   "source": [
    "data.head(3)"
   ]
  },
  {
   "cell_type": "markdown",
   "metadata": {},
   "source": [
    "####  keep only lat and long obtained from geo_point_2d in the json, as others(longitude,latitude,geo_shape) are redundant"
   ]
  },
  {
   "cell_type": "code",
   "execution_count": 11,
   "metadata": {},
   "outputs": [],
   "source": [
    "data = data.drop(['latitude','longitude'],axis=1)"
   ]
  },
  {
   "cell_type": "code",
   "execution_count": 12,
   "metadata": {},
   "outputs": [
    {
     "data": {
      "text/plain": [
       "(320, 59)"
      ]
     },
     "execution_count": 12,
     "metadata": {},
     "output_type": "execute_result"
    }
   ],
   "source": [
    "data.shape"
   ]
  },
  {
   "cell_type": "markdown",
   "metadata": {},
   "source": [
    "##  Find all crashes that happened between the \n",
    "- timing 8 pm and 8:40 pm in any location \n",
    "- which is within 11 km radius of coordinates  [-78.95570271414434, 35.95956710652295]"
   ]
  },
  {
   "cell_type": "code",
   "execution_count": 13,
   "metadata": {},
   "outputs": [
    {
     "name": "stdout",
     "output_type": "stream",
     "text": [
      "dist b/w (35.90427709037941,-79.0879027517705) and (35.95956710652295,-78.95570271414434) is 13.414857946753399 km\n",
      "dist b/w (35.84138707447619,-79.14940276678543) and (35.95956710652295,-78.95570271414434) is 21.857046349305932 km\n",
      "dist b/w (35.912797092182615,-79.09170275262879) and (35.95956710652295,-78.95570271414434) is 13.324271009198625 km\n",
      "dist b/w (35.90265709127439,-79.05130274012254) and (35.95956710652295,-78.95570271414434) is 10.691201481351913 km\n",
      "ambulancer                                       Yes\n",
      "rd_defects                                      None\n",
      "crsh_sevri                                      None\n",
      "objectid                                        1803\n",
      "crash_ty_1                                      None\n",
      "county                                        Orange\n",
      "speed_limi                                5 - 15 MPH\n",
      "rural_urba                                     Urban\n",
      "crash_mont                                    August\n",
      "drvr_vehty                             Passenger Car\n",
      "crash_type                 Off Roadway - Parking Lot\n",
      "city                                     Chapel Hill\n",
      "workzone_i                                        No\n",
      "objectid_1                                     16808\n",
      "severity                           B: Evident Injury\n",
      "locality                      Urban (>70% Developed)\n",
      "crash_grp0                                      None\n",
      "crashalcoh                                        No\n",
      "excsspdind                                        No\n",
      "rd_feature                          Driveway, Public\n",
      "on_rd                                           None\n",
      "drvr_unitn                                         1\n",
      "ped_pos            Non-Roadway - Parking Lot / Other\n",
      "drvr_injur                              O: No Injury\n",
      "crash_loc                                Non-Roadway\n",
      "rd_charact                          Straight - Level\n",
      "drvr_alc_d                                        No\n",
      "drvr_sex                                      Female\n",
      "ped_race                                       White\n",
      "light_cond                    Dark - Lighted Roadway\n",
      "drvrage_gr                                     40-49\n",
      "ped_unitno                                         2\n",
      "crashday                                      Monday\n",
      "pedage_grp                                     26-30\n",
      "ped_alc_dr                                        No\n",
      "ped_age                                           26\n",
      "rd_surface                                  Concrete\n",
      "drvr_race                                      Black\n",
      "crash_sevr                         B: Evident Injury\n",
      "crash_id                                        None\n",
      "ped_injury                         B: Evident Injury\n",
      "developmen                             Institutional\n",
      "traff_cntr                        No Control Present\n",
      "rd_conditi                                       Dry\n",
      "region                                      Piedmont\n",
      "rd_class                       Public Vehicular Area\n",
      "geo_coord_lat                                35.9027\n",
      "geo_coord_lon                               -79.0513\n",
      "drvr_age                                          46\n",
      "crsh_typex                                     38830\n",
      "weather                                        Clear\n",
      "num_units                                          2\n",
      "crash_grp                                Off Roadway\n",
      "num_lanes                                    Unknown\n",
      "hit_run                                           No\n",
      "drvr_estsp                                   0-5 mph\n",
      "rd_config                                    Unknown\n",
      "ped_sex                                       Female\n",
      "crash_timestamp                  2012-08-13 20:39:00\n",
      "Name: 45, dtype: object\n"
     ]
    }
   ],
   "source": [
    "ind = []\n",
    "default_lat = 35.95956710652295\n",
    "default_lon = -78.95570271414434\n",
    "for index,row in enumerate(data):\n",
    "    #print(data.loc[index,'crash_timestamp'].hour)\n",
    "    if (data.loc[index,'crash_timestamp'].hour>=20 and data.loc[index,'crash_timestamp'].hour<21\n",
    "    and data.loc[index,'crash_timestamp'].minute<40) \\\n",
    "    and dist(data.loc[index,'geo_coord_lat'],data.loc[index,'geo_coord_lon'],default_lat,default_lon) <=11:\n",
    "        print(data.iloc[index,:])\n"
   ]
  },
  {
   "cell_type": "markdown",
   "metadata": {},
   "source": [
    "## Connect to SQL and create tables"
   ]
  },
  {
   "cell_type": "code",
   "execution_count": 14,
   "metadata": {},
   "outputs": [],
   "source": [
    "cursor = connect() #Api call to get the cursor"
   ]
  },
  {
   "cell_type": "code",
   "execution_count": 15,
   "metadata": {},
   "outputs": [
    {
     "name": "stdout",
     "output_type": "stream",
     "text": [
      "You are connected to -  ('PostgreSQL 10.10, compiled by Visual C++ build 1800, 64-bit',) \n",
      "\n"
     ]
    }
   ],
   "source": [
    "cursor.execute(\"SELECT version();\")\n",
    "record = cursor.fetchone()\n",
    "print(\"You are connected to - \", record,\"\\n\")"
   ]
  },
  {
   "cell_type": "markdown",
   "metadata": {},
   "source": [
    "### create table crash_details into database traffic_crash"
   ]
  },
  {
   "cell_type": "code",
   "execution_count": 16,
   "metadata": {},
   "outputs": [
    {
     "name": "stdout",
     "output_type": "stream",
     "text": [
      "create table crash_details(ambulancer TEXT,rd_defects TEXT,crsh_sevri TEXT,objectid TEXT,crash_ty_1 TEXT,county TEXT,speed_limi TEXT,rural_urba TEXT,crash_mont TEXT,drvr_vehty TEXT,crash_type TEXT,city TEXT,workzone_i TEXT,objectid_1 FLOAT,severity TEXT,locality TEXT,crash_grp0 TEXT,crashalcoh TEXT,excsspdind TEXT,rd_feature TEXT,on_rd TEXT,drvr_unitn TEXT,ped_pos TEXT,drvr_injur TEXT,crash_loc TEXT,rd_charact TEXT,drvr_alc_d TEXT,drvr_sex TEXT,ped_race TEXT,light_cond TEXT,drvrage_gr TEXT,ped_unitno TEXT,crashday TEXT,pedage_grp TEXT,ped_alc_dr TEXT,ped_age TEXT,rd_surface TEXT,drvr_race TEXT,crash_sevr TEXT,crash_id TEXT,ped_injury TEXT,developmen TEXT,traff_cntr TEXT,rd_conditi TEXT,region TEXT,rd_class TEXT,geo_coord_lat FLOAT,geo_coord_lon FLOAT,drvr_age TEXT,crsh_typex TEXT,weather TEXT,num_units FLOAT,crash_grp TEXT,num_lanes TEXT,hit_run TEXT,drvr_estsp TEXT,rd_config TEXT,ped_sex TEXT,crash_timestamp TEXT);\n"
     ]
    }
   ],
   "source": [
    "subq=''\n",
    "for col in data.columns:\n",
    "    dt = 'INT' if data.loc[:,col].dtype in ['int64','int32'] else 'FLOAT' if data.loc[:,col].dtype in ['float'] else 'TEXT'  \n",
    "    if(subq==''):\n",
    "        subq = '(%s %s'%(col,dt) \n",
    "    else:\n",
    "        \n",
    "        subq+=',%s %s'%(col,dt) \n",
    "    #print(subq)\n",
    "query = 'create table crash_details%s);'%subq    \n",
    "print(query)\n",
    "exec(cursor, query)"
   ]
  },
  {
   "cell_type": "markdown",
   "metadata": {},
   "source": [
    "### INSERT into Table"
   ]
  },
  {
   "cell_type": "code",
   "execution_count": 17,
   "metadata": {},
   "outputs": [],
   "source": [
    "d = {}\n",
    "for rowi in range(data.shape[0]):\n",
    "    d = data.loc[rowi,:].to_dict()\n",
    "    col = ','.join(list(d.keys())) # make string for column names\n",
    "    val = join(data,rowi) #make string for values\n",
    "    query = 'INSERT INTO crash_details(%s) VALUES(%s)'%(col,val)\n",
    "    #print(query)\n",
    "    exec(cursor,query) #execute the query"
   ]
  },
  {
   "cell_type": "markdown",
   "metadata": {},
   "source": [
    "### Count the no of rows in table"
   ]
  },
  {
   "cell_type": "code",
   "execution_count": 18,
   "metadata": {},
   "outputs": [
    {
     "data": {
      "text/plain": [
       "320"
      ]
     },
     "execution_count": 18,
     "metadata": {},
     "output_type": "execute_result"
    }
   ],
   "source": [
    "exec(cursor,'SELECT * from crash_details;')\n",
    "record = cursor.fetchall()\n",
    "len(record)"
   ]
  },
  {
   "cell_type": "code",
   "execution_count": null,
   "metadata": {},
   "outputs": [],
   "source": []
  },
  {
   "cell_type": "code",
   "execution_count": null,
   "metadata": {},
   "outputs": [],
   "source": []
  }
 ],
 "metadata": {
  "kernelspec": {
   "display_name": "Python 3",
   "language": "python",
   "name": "python3"
  },
  "language_info": {
   "codemirror_mode": {
    "name": "ipython",
    "version": 3
   },
   "file_extension": ".py",
   "mimetype": "text/x-python",
   "name": "python",
   "nbconvert_exporter": "python",
   "pygments_lexer": "ipython3",
   "version": "3.7.3"
  }
 },
 "nbformat": 4,
 "nbformat_minor": 2
}
